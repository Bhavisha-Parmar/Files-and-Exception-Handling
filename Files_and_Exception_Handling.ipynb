{
  "nbformat": 4,
  "nbformat_minor": 0,
  "metadata": {
    "colab": {
      "provenance": []
    },
    "kernelspec": {
      "name": "python3",
      "display_name": "Python 3"
    },
    "language_info": {
      "name": "python"
    }
  },
  "cells": [
    {
      "cell_type": "markdown",
      "source": [
        "#**Theory Questions**"
      ],
      "metadata": {
        "id": "Ouq0i0b54UpM"
      }
    },
    {
      "cell_type": "markdown",
      "source": [
        "## **1. What is the difference between interpreted and compiled languages?**\n",
        "\n",
        "**1. Compiled Languages**\n",
        "\n",
        "**How it works:** Code is translated all at once into machine code (binary) by a compiler before it runs.\n",
        "\n",
        "**Examples:** C, C++, Rust, Go\n",
        "\n",
        "**Pros:**\n",
        "\n",
        "* Usually faster because it's already translated.\n",
        "\n",
        "* Can catch many errors before the program even runs.\n",
        "\n",
        "**Cons:**\n",
        "\n",
        "* Slower development cycle (compile every time you change something).\n",
        "\n",
        "* Platform-specific (need to compile for Windows, Mac, Linux, etc.).\n",
        "\n",
        "**2. Interpreted Languages**\n",
        "\n",
        "**How it works:** Code is run line by line by an interpreter, which translates it on the fly as the program runs.\n",
        "\n",
        "**Examples:** Python, JavaScript, Ruby\n",
        "\n",
        "**Pros:**\n",
        "\n",
        "* Easier to test and debug (no compile step).\n",
        "\n",
        "* More portable (same code can run anywhere with the right interpreter).\n",
        "\n",
        "**Cons:**\n",
        "\n",
        "* Slower at runtime because it's being interpreted on the fly.\n",
        "\n",
        "* Some errors might only appear when the program hits that part of the code."
      ],
      "metadata": {
        "id": "_u7izIvy4h01"
      }
    },
    {
      "cell_type": "markdown",
      "source": [
        "## **2. What is exception handling in Python?**\n",
        "\n",
        "Exception handling in Python is a way to deal with errors that occur while your program is running, so it doesn't crash. Instead of your program just breaking when something goes wrong, you can catch the error and respond to it gracefully.\n",
        "\n",
        "**Basic Structure**\n",
        "\n",
        "\n",
        "1.   List item\n",
        "2.   List item\n",
        "\n",
        "\n",
        "    try:\n",
        "      # Code that might cause an error\n",
        "      x = 10 / 0\n",
        "    \n",
        "    except ZeroDivisionError:\n",
        "      # What to do if that specific error happens\n",
        "      print(\"You can't divide by zero!\")\n",
        "    \n",
        "    # try: Put the risky code here.\n",
        "    \n",
        "    # except: Handle the error here.\n",
        "\n",
        "    # ZeroDivisionError: This is a specific kind of exception.\n",
        "\n",
        "**Multiple Excepts**\n",
        "\n",
        "You can catch different kinds of errors:\n",
        "\n",
        "    try:\n",
        "      num = int(input(\"Enter a number: \"))\n",
        "      result = 10 / num\n",
        "      except ValueError:\n",
        "        print(\"That's not a number!\")\n",
        "      except ZeroDivisionError:\n",
        "        print(\"Can't divide by zero!\")\n",
        "\n",
        "**Else and Finally (Optional)**\n",
        "\n",
        "**else:** Runs if no exceptions were raised.\n",
        "\n",
        "**finally:** Always runs, whether there was an error or not.\n",
        "\n",
        "    try:\n",
        "      x = 5 / 1\n",
        "      except ZeroDivisionError:\n",
        "        print(\"Oops!\")\n",
        "      else:\n",
        "        print(\"No errors!\")\n",
        "      finally:\n",
        "        print(\"This always runs.\")\n",
        "\n",
        "**Raising Your Own Exceptions**\n",
        "\n",
        "You can manually raise errors too:\n",
        "\n",
        "    age = -5\n",
        "    if age < 0:\n",
        "      raise ValueError(\"Age can't be negative!\")\n"
      ],
      "metadata": {
        "id": "ftXUWrKE5i1R"
      }
    },
    {
      "cell_type": "markdown",
      "source": [
        "## **3.  What is the purpose of the finally block in exception handling?**\n",
        "\n",
        "The finally block in Python is used to define code that must run no matter what, whether an exception was raised or not. It's typically used for clean-up actions, like closing files, releasing resources, or ending connections.\n",
        "\n",
        "**Purpose of finally**\n",
        "\n",
        "Ensure that important final steps are always executed.\n",
        "\n",
        "Runs whether:\n",
        "\n",
        "* An exception occurs\n",
        "\n",
        "* No exception occurs\n",
        "\n",
        "* The exception is handled or not\n",
        "\n",
        "* There’s a return or break\n",
        "\n",
        "**Example:**\n",
        "\n",
        "    try:\n",
        "      file = open(\"example.txt\", \"r\")\n",
        "      content = file.read()\n",
        "      except FileNotFoundError:\n",
        "        print(\"File not found!\")\n",
        "      finally:\n",
        "        file.close()\n",
        "        print(\"File is closed.\")\n",
        "    # Even if an error occurs while reading the file, file.close() will always be executed. This prevents resource leaks or unexpected behavior.\n",
        "\n"
      ],
      "metadata": {
        "id": "pEUAO3Iv6slH"
      }
    },
    {
      "cell_type": "markdown",
      "source": [
        "## **4.  What is logging in Python?**\n",
        "\n",
        "Logging in Python is a way to keep track of events that happen when your code runs — like writing down what's going on, especially errors or important steps — so you can debug, monitor, or audit your application more easily.\n",
        "\n",
        "**Why Use Logging?**\n",
        "\n",
        "* Helps you diagnose problems after your program has run.\n",
        "\n",
        "* Better than print() for real applications.\n",
        "\n",
        "* You can control what kind of messages to log, where to store them, and how detailed they are.\n",
        "\n",
        "**Basic Example**\n",
        "\n",
        "    import logging\n",
        "\n",
        "    logging.basicConfig(level=logging.INFO)\n",
        "    logging.info(\"This is an info message\")\n",
        "    \n",
        "    # Output:\n",
        "\n",
        "    INFO:root:This is an info message\n",
        "\n"
      ],
      "metadata": {
        "id": "_xPEShzq7DBp"
      }
    },
    {
      "cell_type": "markdown",
      "source": [
        "## **5.  What is the significance of the __del__ method in Python?**\n",
        "\n",
        "The __del__ method in Python is a special method called a destructor. It's automatically invoked when an object is about to be destroyed — in other words, when Python’s garbage collector is cleaning up the object.\n",
        "\n",
        "**Purpose of __del__**\n",
        "\n",
        "* To clean up resources that the object was using:\n",
        "\n",
        "* Closing files\n",
        "\n",
        "* Disconnecting from networks\n",
        "\n",
        "* Releasing memory or external resources\n",
        "\n",
        "**Example:**\n",
        "\n",
        "    class MyClass:\n",
        "        def __init__(self):\n",
        "            print(\"Object created\")\n",
        "\n",
        "        def __del__(self):\n",
        "            print(\"Object destroyed\")\n",
        "\n",
        "    obj = MyClass()\n",
        "    del obj  # Forces deletion\n",
        "    \n",
        "    # Output:\n",
        "\n",
        "    Object created\n",
        "    Object destroyed\n",
        "\n"
      ],
      "metadata": {
        "id": "OL0ax9s87Uru"
      }
    },
    {
      "cell_type": "markdown",
      "source": [
        "## **6.  What is the difference between import and from ... import in Python?**\n",
        "\n",
        "In Python, both import and from ... import are used to bring in external code (modules), but they work a little differently.\n",
        "\n",
        "**import Statement**\n",
        "\n",
        "    import math\n",
        "    # Imports the entire module.\n",
        "\n",
        "    # You need to prefix functions or variables with the module name.\n",
        "\n",
        "\n",
        "    result = math.sqrt(16)\n",
        "    # Clear where the function is coming from.\n",
        "    # Slightly longer to type.\n",
        "\n",
        "**from ... import Statement**\n",
        "\n",
        "    from math import sqrt\n",
        "    # Imports only the specific part you need from a module.\n",
        "\n",
        "    # You don’t need to prefix it with the module name.\n",
        "\n",
        "    result = sqrt(16)\n",
        "\n",
        "    # Cleaner, less typing.\n",
        "    # Might be confusing if the function name overlaps with something else in your code or another module.\n"
      ],
      "metadata": {
        "id": "mP2Lhval7bi1"
      }
    },
    {
      "cell_type": "markdown",
      "source": [
        "## **7.  How can you handle multiple exceptions in Python?**\n",
        "\n",
        "In Python, you can handle multiple exceptions in a few clean and flexible ways depending on your needs. Here's a quick breakdown:\n",
        "\n",
        "**1. Multiple except Blocks**\n",
        "\n",
        "Handle each exception separately with its own block:\n",
        "\n",
        "    try:\n",
        "        x = int(input(\"Enter a number: \"))\n",
        "        result = 10 / x\n",
        "    except ValueError:\n",
        "        print(\"Oops! That's not a valid number.\")\n",
        "    except ZeroDivisionError:\n",
        "        print(\"You can't divide by zero!\")\n",
        "This is useful when you want to handle each exception differently.\n",
        "\n",
        "**2. Single except with Multiple Exceptions**\n",
        "\n",
        "Handle different exceptions in the same way by grouping them in a tuple:\n",
        "\n",
        "    try:\n",
        "        x = int(input(\"Enter a number: \"))\n",
        "        result = 10 / x\n",
        "    except (ValueError, ZeroDivisionError):\n",
        "        print(\"Invalid input or division by zero.\")\n",
        "This is good for catching related errors with a common response.\n",
        "\n",
        "**3. Catch All Exceptions (Generic Handler)**\n",
        "\n",
        "You can use a general Exception to catch any exception:\n",
        "\n",
        "    try:\n",
        "        # some risky code\n",
        "    except Exception as e:\n",
        "        print(f\"Something went wrong: {e}\")\n",
        "\n",
        "Use this carefully — it can hide bugs if overused.\n",
        "\n"
      ],
      "metadata": {
        "id": "eYI94jkx7izx"
      }
    },
    {
      "cell_type": "markdown",
      "source": [
        "## **8.  What is the purpose of the with statement when handling files in Python?**\n",
        "\n",
        "The with statement in Python is used when working with files (and other resources) to automatically manage setup and cleanup — like opening and safely closing a file — even if an error occurs.\n",
        "\n",
        "**Purpose of with When Handling Files:**\n",
        "\n",
        "* Opens the file\n",
        "\n",
        "* Automatically closes it, no matter what\n",
        "\n",
        "* Makes code cleaner, safer, and less error-prone\n",
        "\n",
        "**Example without with:**\n",
        "\n",
        "      file = open(\"example.txt\", \"r\")\n",
        "      try:\n",
        "          content = file.read()\n",
        "      finally:\n",
        "          file.close()  # You MUST remember to close it manually\n",
        "\n",
        "**Same Example with with:**\n",
        "\n",
        "      with open(\"example.txt\", \"r\") as file:\n",
        "          content = file.read()\n",
        "      # File is automatically closed here\n",
        "* No need to call file.close()\n",
        "\n",
        "* Handles exceptions cleanly\n",
        "\n",
        "* Reduces chance of file/resource leaks\n",
        "\n"
      ],
      "metadata": {
        "id": "HOsRrmCTH0_w"
      }
    },
    {
      "cell_type": "markdown",
      "source": [
        "## **9.  What is the difference between multithreading and multiprocessing?**\n",
        "\n",
        "**Multithreading**\n",
        "\n",
        "* Uses multiple threads within a single process.\n",
        "\n",
        "* All threads share the same memory space.\n",
        "\n",
        "* Good for I/O-bound tasks (waiting for input/output like file reads, web requests).\n",
        "\n",
        "**Pros:**\n",
        "\n",
        "* Lightweight (low memory usage).\n",
        "\n",
        "* Faster to create and switch between threads.\n",
        "\n",
        "**Cons:**\n",
        "\n",
        "Python has the GIL (Global Interpreter Lock), which means only one thread runs Python code at a time, limiting performance for CPU-heavy tasks.\n",
        "\n",
        "**Example use cases:**\n",
        "\n",
        "* Web scraping\n",
        "\n",
        "* File or network I/O\n",
        "\n",
        "* Downloading multiple files simultaneously\n",
        "\n",
        "**Multiprocessing**\n",
        "\n",
        "* Uses multiple processes, each with its own memory space.\n",
        "\n",
        "* Great for CPU-bound tasks (math-heavy, data processing, etc.).\n",
        "\n",
        "* Bypasses the GIL since each process runs independently.\n",
        "\n",
        "**Pros:**\n",
        "\n",
        "* Can use multiple CPU cores effectively.\n",
        "\n",
        "* True parallelism in Python.\n",
        "\n",
        "**Cons:**\n",
        "\n",
        "* More memory usage (each process has its own memory).\n",
        "\n",
        "* Slower communication between processes.\n",
        "\n",
        "**Example use cases:**\n",
        "\n",
        "* Data crunching\n",
        "\n",
        "* Image processing\n",
        "\n",
        "* Machine learning model training"
      ],
      "metadata": {
        "id": "a_8NsRyxIgZv"
      }
    },
    {
      "cell_type": "markdown",
      "source": [
        "## **10.  What are the advantages of using logging in a program?**\n",
        "\n",
        "**1. Better Debugging & Troubleshooting**\n",
        "\n",
        "* Logging helps you see what your program was doing when something went wrong — even after the fact.\n",
        "\n",
        "* Know what happened, where, and why\n",
        "\n",
        "* Track variable values, errors, and unexpected behavior\n",
        "\n",
        "**2. Persistent Record**\n",
        "\n",
        "* Unlike print(), logs can be saved to files, making them useful for:\n",
        "\n",
        "* Auditing (who did what and when)\n",
        "\n",
        "* Diagnosing production issues\n",
        "\n",
        "* Keeping track of long-running applications\n",
        "\n",
        "**3. Different Levels of Importance**\n",
        "\n",
        "* Logging lets you classify messages by severity, like:\n",
        "\n",
        "* DEBUG: Detailed info for developers\n",
        "\n",
        "* INFO: General info on program flow\n",
        "\n",
        "* WARNING: Something unusual but not fatal\n",
        "\n",
        "* ERROR: A problem occurred\n",
        "\n",
        "* CRITICAL: Serious error, app might crash\n",
        "\n",
        "* You can filter logs based on these levels.\n",
        "\n",
        "**4. Flexible Output**\n",
        "\n",
        "You can send logs to:\n",
        "\n",
        "* Console\n",
        "\n",
        "* Files\n",
        "\n",
        "* Email\n",
        "\n",
        "* Remote logging servers\n",
        "\n",
        "* Databases\n",
        "\n",
        "* All without changing your code much — just configure the logger.\n",
        "\n",
        "**5. Easier Maintenance & Collaboration**\n",
        "\n",
        "With consistent logging, other developers (or your future self!) can understand what the program is doing and why, without guessing.\n",
        "\n",
        "**6. Works Well in Production**\n",
        "\n",
        "You can disable or reduce log output in production with one setting — no need to delete a bunch of print() calls.\n",
        "\n",
        "    logging.basicConfig(level=logging.WARNING)"
      ],
      "metadata": {
        "id": "_kwmXCxOJj5K"
      }
    },
    {
      "cell_type": "markdown",
      "source": [
        "## **11.  What is memory management in Python?**\n",
        "\n",
        "Memory management in Python is the process of allocating, using, and freeing memory during a program’s execution — and Python handles most of it for you automatically.\n",
        "\n",
        "**1. Automatic Memory Allocation**\n",
        "\n",
        "When you create a variable or object, Python automatically allocates memory for it.\n",
        "\n",
        "**Example:**\n",
        "\n",
        "    x = [1, 2, 3]  # memory is allocated for this list\n",
        "\n",
        "**2. Reference Counting**\n",
        "\n",
        "* Python keeps track of how many references point to an object.\n",
        "\n",
        "* When an object’s reference count drops to zero, it means nothing is using it, and Python can safely delete it.\n",
        "\n",
        "**3. Garbage Collection**\n",
        "\n",
        "* Python has a garbage collector that finds and cleans up objects no longer in use (especially those involved in reference cycles).\n",
        "\n",
        "* This helps free memory that’s not needed anymore.\n",
        "\n",
        "**Reference Counting Example:**\n",
        "\n",
        "    import sys\n",
        "\n",
        "    a = [1, 2, 3]\n",
        "    print(sys.getrefcount(a))  # Shows how many references point to `a`\n",
        "\n",
        "**Garbage Collector Example:**\n",
        "\n",
        "    import gc\n",
        "\n",
        "    gc.collect()  # Manually trigger garbage collection\n"
      ],
      "metadata": {
        "id": "RHl2oLBwLveN"
      }
    },
    {
      "cell_type": "markdown",
      "source": [
        "## **12.  What are the basic steps involved in exception handling in Python?**\n",
        "\n",
        "**1. Use try to Wrap Risky Code**\n",
        "\n",
        "You start with a try block — this is where you put the code that might raise an exception.\n",
        "\n",
        "    try:\n",
        "        x = int(input(\"Enter a number: \"))\n",
        "\n",
        "**2. Catch Exceptions with except**\n",
        "\n",
        "If an error happens in the try block, Python jumps to the except block to handle the exception.\n",
        "\n",
        "    except ValueError:\n",
        "        print(\"That's not a valid number!\")\n",
        "You can have multiple except blocks for different error types.\n",
        "\n",
        "**3. (Optional) Use else for Code That Runs If No Exception Occurs**\n",
        "\n",
        "The else block runs only if the try block succeeds (i.e., no exception was raised).\n",
        "\n",
        "    else:\n",
        "        print(\"You entered:\", x)\n",
        "\n",
        "**4. (Optional) Use finally for Cleanup Code**\n",
        "\n",
        "The finally block runs no matter what — even if an error occurs. It’s great for cleanup actions like closing a file or database connection.\n",
        "\n",
        "    finally:\n",
        "        print(\"This block always runs.\")\n",
        "\n",
        "**Full Example:**\n",
        "\n",
        "    try:\n",
        "        x = int(input(\"Enter a number: \"))\n",
        "        result = 10 / x\n",
        "    except ValueError:\n",
        "        print(\"That's not a number!\")\n",
        "    except ZeroDivisionError:\n",
        "        print(\"Can't divide by zero!\")\n",
        "    else:\n",
        "        print(\"Result is:\", result)\n",
        "    finally:\n",
        "        print(\"Done with error handling.\")\n",
        "\n"
      ],
      "metadata": {
        "id": "HJAWDiMzNRr0"
      }
    },
    {
      "cell_type": "markdown",
      "source": [
        "## **13.  Why is memory management important in Python?**\n",
        "\n",
        "Memory management is super important in Python (and any programming language) because it directly affects how efficient, stable, and scalable your programs are.\n",
        "\n",
        "**1. Prevents Memory Leaks**\n",
        "\n",
        "Without good memory management, unused objects can pile up and consume RAM.\n",
        "\n",
        "Python’s garbage collector helps clean up memory by removing objects that are no longer needed.\n",
        "\n",
        "**2. Improves Performance**\n",
        "\n",
        "* Efficient memory usage means your program runs faster and uses fewer resources.\n",
        "\n",
        "* It keeps your app responsive and smooth, especially for big tasks like data processing or image handling.\n",
        "\n",
        "**3. Supports Scalability**\n",
        "\n",
        "For apps that handle lots of data (like web servers or ML models), memory efficiency helps your app scale up without crashing.\n",
        "\n",
        "**4. Avoids Crashes and Freezing**\n",
        "\n",
        "* If your program uses more memory than the system allows, it can crash or slow to a crawl.\n",
        "\n",
        "* Python’s memory manager helps avoid that by releasing unused memory.\n",
        "\n",
        "**5. Lets You Focus on Logic, Not Low-Level Memory**\n",
        "\n",
        "* Python handles memory behind the scenes using:\n",
        "\n",
        "* Reference counting\n",
        "\n",
        "* Garbage collection\n",
        "\n",
        "* Object pooling (like for small integers and strings)\n",
        "\n",
        "* You don’t usually have to manage memory manually, but understanding how it works helps you write better code.\n",
        "\n",
        "**Example:**\n",
        "\n",
        "    f = open(\"bigfile.txt\")\n",
        "    # You forget to close it\n",
        "\n",
        "That file stays in memory — and if you do this repeatedly, you might run out of resources. Using a with block (context manager) fixes this:\n",
        "\n",
        "    with open(\"bigfile.txt\") as f:\n",
        "        data = f.read()\n",
        "    # File is auto-closed, memory released"
      ],
      "metadata": {
        "id": "4-5rPBjHOKoP"
      }
    },
    {
      "cell_type": "markdown",
      "source": [
        "## **14.   What is the role of try and except in exception handling?**\n",
        "\n",
        "The try and except blocks are the core of exception handling in Python. They help you catch and respond to errors gracefully, instead of letting your program crash.\n",
        "\n",
        "**try Block — \"Attempt This Code\"**\n",
        "\n",
        "* You write code that might raise an exception inside the try block.\n",
        "\n",
        "* If no error occurs, Python skips the except block.\n",
        "\n",
        "      try:\n",
        "          x = int(input(\"Enter a number: \"))\n",
        "\n",
        "**except Block — \"Handle the Error If It Happens\"**\n",
        "\n",
        "* If an error does happen in the try block, Python jumps to the matching except block to handle it.\n",
        "\n",
        "* You can handle specific exception types like ValueError, ZeroDivisionError, etc.\n",
        "\n",
        "      except ValueError:\n",
        "          print(\"Oops! That’s not a valid number.\")\n",
        "          \n",
        "**Full Example:**\n",
        "\n",
        "    try:\n",
        "        num = int(input(\"Enter a number: \"))\n",
        "        result = 10 / num\n",
        "    except ValueError:\n",
        "        print(\"Not a number!\")\n",
        "    except ZeroDivisionError:\n",
        "        print(\"Can't divide by zero!\")"
      ],
      "metadata": {
        "id": "9t2s1cTAPaEs"
      }
    },
    {
      "cell_type": "markdown",
      "source": [
        "## **15.    How does Python's garbage collection system work?**\n",
        "\n",
        "Python's garbage collection system is responsible for automatically managing memory by releasing unused memory (that is, memory occupied by objects no longer needed) to prevent memory leaks and optimize performance.\n",
        "\n",
        "**How Garbage Collection Works in Python**\n",
        "\n",
        "Python’s garbage collection system has two primary techniques to handle memory:\n",
        "\n",
        "* Reference Counting\n",
        "\n",
        "* Cycle Detection (Garbage Collector)\n",
        "\n",
        "**1. Reference Counting**\n",
        "\n",
        "**What is it?**\n",
        "\n",
        "* Every object in Python has an associated reference count — a counter that keeps track of how many references point to the object.\n",
        "\n",
        "* When an object’s reference count drops to zero, it means no part of the program is using that object anymore, so it can be safely deleted and its memory freed.\n",
        "\n",
        "**Example:**\n",
        "\n",
        "    import sys\n",
        "\n",
        "    x = [1, 2, 3]  # Reference count of the list object is 1\n",
        "    y = x           # Reference count of the list object increases to 2\n",
        "    del x           # Reference count of the list object is 1 again\n",
        "    del y           # Reference count of the list object is now 0, and it's deallocated\n",
        "**When does it happen?**\n",
        "\n",
        "This happens automatically when objects go out of scope or are deleted manually using del.\n",
        "\n",
        "**2. Cycle Detection (Garbage Collector)**\n",
        "\n",
        "* Python’s garbage collector is designed to deal with reference cycles — when objects refer to each other in a cycle (e.g., object A references object B, and object B references object A), and the reference count will never drop to zero, even though the objects are no longer needed.\n",
        "\n",
        "* Python detects these cycles and clears them using its garbage collector.\n",
        "\n",
        "**Why it’s needed?**\n",
        "\n",
        "* Without garbage collection, such cycles could cause memory leaks because the reference count will never go to zero, so the objects won’t be deleted.\n",
        "\n",
        "**Python's Garbage Collection Algorithm (How it Works)**\n",
        "\n",
        "Python uses the generational garbage collection strategy. It divides objects into three generations:\n",
        "\n",
        "* Generation 0 (youngest objects): New objects are allocated here.\n",
        "\n",
        "* Generation 1 (older objects): Objects that survive one garbage collection cycle move to this generation.\n",
        "\n",
        "* Generation 2 (oldest objects): Objects that have survived multiple collection cycles.\n",
        "\n",
        "The idea is that most objects die young, meaning they don’t stick around for long, so generation 0 is collected more often than generation 1 or generation 2.\n",
        "\n",
        "**Example of Garbage Collection in Action:**\n",
        "\n",
        "    import gc\n",
        "\n",
        "    # Disable automatic garbage collection (just for demonstration purposes)\n",
        "    gc.disable()\n",
        "\n",
        "    # Create objects\n",
        "    a = {}\n",
        "    b = {}\n",
        "    a['b'] = b  # reference cycle: a -> b and b -> a\n",
        "    b['a'] = a\n",
        "\n",
        "    # Force garbage collection manually\n",
        "    gc.collect()  # this will clean up reference cycles\n",
        "\n",
        "    gc.enable()  # Re-enable automatic garbage collection\n",
        "\n",
        "**Key Points About Python's Garbage Collection**\n",
        "\n",
        "* Automatic Memory Management: You don’t need to manually manage memory in Python; the garbage collector handles most of it.\n",
        "\n",
        "* Reference Counting: Python uses reference counting for objects, deleting them when they’re no longer referenced.\n",
        "\n",
        "* Cycle Detection: Python's garbage collector detects and clears cycles to prevent memory leaks.\n",
        "\n",
        "* Generational Collection: Python collects younger objects more frequently, as they are more likely to become unreachable quickly.\n",
        "\n"
      ],
      "metadata": {
        "id": "bdgLS83BRAqC"
      }
    },
    {
      "cell_type": "markdown",
      "source": [
        "## **16.    What is the purpose of the else block in exception handling?**\n",
        "\n",
        "**Purpose of the else Block**\n",
        "\n",
        "* It lets you separate the \"error-free\" logic from the risky code.\n",
        "\n",
        "* Helps make your code clearer and more organized.\n",
        "\n",
        "* Only runs if the code in the try block completes without errors.\n",
        "\n",
        "**Structure:**\n",
        "\n",
        "    try:\n",
        "        # Code that might raise an exception\n",
        "    except SomeError:\n",
        "        # Handle the error\n",
        "    else:\n",
        "        # Runs ONLY if no exception occurred in the try block\n",
        "\n",
        "**Example:**\n",
        "\n",
        "    try:\n",
        "        num = int(input(\"Enter a number: \"))\n",
        "    except ValueError:\n",
        "        print(\"That's not a number!\")\n",
        "    else:\n",
        "        print(\"You entered:\", num)\n",
        "    If the input is invalid, the except block runs.\n",
        "\n",
        "    If the input is valid, the else block runs.\n",
        "\n",
        "**Why Use else?**\n",
        "\n",
        "* Keeps normal logic separate from error-handling logic.\n",
        "\n",
        "* Avoids putting too much code in the try block, which could hide unrelated bugs.\n",
        "\n",
        "* Enhances readability and debuggability."
      ],
      "metadata": {
        "id": "d4eqnLBVpSC5"
      }
    },
    {
      "cell_type": "markdown",
      "source": [
        "## **17.     What are the common logging levels in Python?**\n",
        "\n",
        "In Python, the logging module provides five common logging levels, each indicating the severity or importance of the log message.\n",
        "\n",
        "**1. DEBUG (Level: 10)**\n",
        "\n",
        "* Detailed diagnostic info for developers.\n",
        "\n",
        "* Used for tracking variable values, function flow, etc.\n",
        "\n",
        "      logging.debug(\"This is a debug message.\")\n",
        "\n",
        "**2. INFO (Level: 20)**\n",
        "\n",
        "* General messages that confirm things are working as expected.\n",
        "\n",
        "* For standard events (e.g., \"Server started\", \"User logged in\").\n",
        "\n",
        "      logging.info(\"Application started successfully.\")\n",
        "\n",
        "**3. WARNING (Level: 30)**\n",
        "\n",
        "* Something unexpected happened or might cause problems later.\n",
        "\n",
        "* Program still works, but it’s worth attention.\n",
        "\n",
        "      logging.warning(\"Disk space is running low.\")\n",
        "\n",
        "**4. ERROR (Level: 40)**\n",
        "\n",
        "A serious problem occurred that prevented a part of the program from working.\n",
        "\n",
        "      logging.error(\"Failed to save file.\")\n",
        "\n",
        "**5. CRITICAL (Level: 50)**\n",
        "\n",
        "A very serious error. The program may be unable to continue running.\n",
        "\n",
        "      logging.critical(\"System crash! Immediate attention needed.\")\n",
        "\n",
        "**Example Setup:**\n",
        "\n",
        "    import logging\n",
        "\n",
        "    logging.basicConfig(level=logging.DEBUG)\n",
        "\n",
        "    logging.debug(\"Debugging details\")\n",
        "    logging.info(\"Something normal happened\")\n",
        "    logging.warning(\"Something might go wrong\")\n",
        "    logging.error(\"Something went wrong\")\n",
        "    logging.critical(\"System is breaking down!\")"
      ],
      "metadata": {
        "id": "6elu9_eRp7g3"
      }
    },
    {
      "cell_type": "markdown",
      "source": [
        "## **18. What is the difference between os.fork() and multiprocessing in Python?**\n",
        "\n",
        "**os.fork()**\n",
        "\n",
        "* Low-level system call (available only on Unix/Linux).\n",
        "\n",
        "* Duplicates the current process — creating a child process that's an exact copy of the parent.\n",
        "\n",
        "* The child and parent processes run independently from the point of the fork.\n",
        "\n",
        "**How it works:**\n",
        "\n",
        "    import os\n",
        "\n",
        "    pid = os.fork()\n",
        "\n",
        "    if pid == 0:\n",
        "        print(\"This is the child process.\")\n",
        "    else:\n",
        "        print(\"This is the parent process.\")\n",
        "\n",
        "**Things to note:**\n",
        "\n",
        "* No automatic way to share data between processes.\n",
        "\n",
        "* You have to manage inter-process communication (IPC) manually.\n",
        "\n",
        "* Not available on Windows.\n",
        "\n",
        "**Multiprocessing Module**\n",
        "\n",
        "* High-level abstraction for creating and managing multiple processes.\n",
        "\n",
        "* Works on both Unix and Windows.\n",
        "\n",
        "* Built-in support for:\n",
        "\n",
        "  - Process creation\n",
        "\n",
        "  - Queues\n",
        "\n",
        "  - Pipes\n",
        "\n",
        "  - Locks\n",
        "\n",
        "  - Pools (parallel task execution)\n",
        "\n",
        "**How it works:**\n",
        "\n",
        "    from multiprocessing import Process\n",
        "\n",
        "    def worker():\n",
        "        print(\"This is a worker process.\")\n",
        "\n",
        "    p = Process(target=worker)\n",
        "    p.start()\n",
        "    p.join()\n",
        "\n",
        "**Benefits:**\n",
        "\n",
        "* More readable and maintainable.\n",
        "\n",
        "* Safer and more portable.\n",
        "\n",
        "* Includes tools for sharing data safely between processes."
      ],
      "metadata": {
        "id": "-yn6y9i5rOSR"
      }
    },
    {
      "cell_type": "markdown",
      "source": [
        "## **19. What is the importance of closing a file in Python?**\n",
        "\n",
        "Closing a file in Python is super important because it helps ensure your program behaves correctly, efficiently, and safely when working with files.\n",
        "\n",
        "**1. Frees Up System Resources**\n",
        "\n",
        "* When you open a file, the operating system uses system resources like file handles.\n",
        "\n",
        "* If you don’t close it, those resources stay in use — and you can run into errors like:\n",
        "\n",
        "* “Too many open files”\n",
        "\n",
        "* File locks not being released\n",
        "\n",
        "**2. Saves Data Properly**\n",
        "\n",
        "* If you're writing to a file, data may be buffered — stored temporarily in memory.\n",
        "\n",
        "* Closing the file ensures all data is flushed from the buffer and actually written to disk.\n",
        "\n",
        "      f = open(\"data.txt\", \"w\")\n",
        "      f.write(\"Hello, world!\")\n",
        "      f.close()  # flushes data to disk\n",
        "      If you forget .close(), you might lose data.\n",
        "\n",
        "**3. Releases File Locks**\n",
        "\n",
        "* Some files are locked while they’re open (especially on Windows).\n",
        "\n",
        "* Closing them properly unlocks the file so other processes or programs can access it.\n",
        "\n",
        "**4. Prevents Corruption and Errors**\n",
        "\n",
        "If you interrupt a script (e.g., with Ctrl+C) while a file is open, an unclosed file might get corrupted or become unreadable.\n",
        "\n",
        "**Best Practice: Use with**\n",
        "\n",
        "Python provides a better way to handle files safely using a with statement (context manager). It automatically closes the file — even if an error occurs.\n",
        "\n",
        "    with open(\"data.txt\", \"r\") as f:\n",
        "        contents = f.read()\n",
        "    # File is automatically closed here\n"
      ],
      "metadata": {
        "id": "m-4ob2wGsliE"
      }
    },
    {
      "cell_type": "markdown",
      "source": [
        "## **20. What is the difference between file.read() and file.readline() in Python?**\n",
        "\n",
        "**file.read()**\n",
        "\n",
        "* Reads the entire file (or a specified number of characters) into a single string.\n",
        "\n",
        "* Useful when you want to load the whole content at once.\n",
        "\n",
        "    with open(\"example.txt\", \"r\") as f:\n",
        "        content = f.read()\n",
        "        print(content)  # Entire file as one string\n",
        "\n",
        "      # Optional:\n",
        "      f.read(10)  # Reads first 10 characters\n",
        "\n",
        "**file.readline()**\n",
        "\n",
        "* Reads just one line at a time (up to the next newline \\n).\n",
        "\n",
        "* Returns the line as a string, including the newline character (unless it's the last line).\n",
        "\n",
        "* Good for reading a file line-by-line, especially if it's large.\n",
        "\n",
        "**Example:**\n",
        "\n",
        "      with open(\"example.txt\", \"r\") as f:\n",
        "          line = f.readline()\n",
        "          print(line)  # Just the first line\n",
        "\n",
        "      # You can call it multiple times to read the next lines:\n",
        "\n",
        "      line1 = f.readline()\n",
        "      line2 = f.readline()\n"
      ],
      "metadata": {
        "id": "4QelAjV5x3vg"
      }
    },
    {
      "cell_type": "markdown",
      "source": [
        "## **21. What is the logging module in Python used for?**\n",
        "\n",
        "**Why Use the logging Module?**\n",
        "\n",
        "* Helps debug issues more efficiently\n",
        "\n",
        "* Records errors, warnings, info, and debug messages\n",
        "\n",
        "* Useful for monitoring, especially in larger applications\n",
        "\n",
        "* Can output logs to:\n",
        "\n",
        "    - The console\n",
        "\n",
        "    - A file\n",
        "\n",
        "    - A remote server\n",
        "\n",
        "    - Or multiple places at once"
      ],
      "metadata": {
        "id": "IvHV-BPSy8GG"
      }
    },
    {
      "cell_type": "markdown",
      "source": [
        "## **22. What is the os module in Python used for in file handling?**\n",
        "\n",
        "**1. Check if a file or directory exists**\n",
        "\n",
        "    import os\n",
        "\n",
        "    print(os.path.exists(\"myfile.txt\"))  # True or False\n",
        "\n",
        "**2. Create a new directory**\n",
        "\n",
        "    os.mkdir(\"new_folder\")\n",
        "\n",
        "**3. List files and directories**\n",
        "\n",
        "    print(os.listdir(\".\"))  # Lists everything in the current directory\n",
        "\n",
        "**4. Rename files or folders**\n",
        "\n",
        "    os.rename(\"old_name.txt\", \"new_name.txt\")\n",
        "\n",
        "**5. Delete a file or directory**\n",
        "\n",
        "    os.remove(\"file_to_delete.txt\")       # Deletes a file\n",
        "    os.rmdir(\"folder_to_delete\")          # Deletes an empty folder\n",
        "\n",
        "**6. Get file paths**\n",
        "\n",
        "    print(os.path.abspath(\"myfile.txt\"))  # Full path to the file\n",
        "\n",
        "**7. Join paths the right way (cross-platform)**\n",
        "\n",
        "    file_path = os.path.join(\"folder\", \"file.txt\")"
      ],
      "metadata": {
        "id": "KB-n_lPQzaXD"
      }
    },
    {
      "cell_type": "markdown",
      "source": [
        "## **23. What are the challenges associated with memory management in Python?**\n",
        "\n",
        "**1. Memory Leaks**\n",
        "\n",
        "Even with garbage collection, memory leaks can occur if:\n",
        "\n",
        "* Objects are unintentionally kept alive (e.g., by lingering references).\n",
        "\n",
        "* Reference cycles exist and are not cleaned up promptly.\n",
        "\n",
        "* Example: A list referencing itself can keep memory tied up.\n",
        "\n",
        "**2. Reference Cycles**\n",
        "\n",
        "* Python uses reference counting, but when two or more objects reference each other (a cycle), their count never drops to zero — so they stick around.\n",
        "\n",
        "* While Python’s garbage collector can detect and clean cycles, it doesn’t happen immediately, and sometimes you need to trigger it manually.\n",
        "\n",
        "**3. High Memory Usage**\n",
        "\n",
        "* Python objects, especially classes and data structures like lists or dicts, are not lightweight compared to languages like C.\n",
        "\n",
        "* Lists store references, not raw data.\n",
        "\n",
        "* Everything is an object, which adds overhead.\n",
        "\n",
        "* This can lead to higher memory consumption than expected.\n",
        "\n",
        "**4. Global Interpreter Lock (GIL)**\n",
        "\n",
        "* Though not directly memory-related, the GIL prevents true parallel threads in CPython, which affects multi-threaded memory management.\n",
        "\n",
        "* To use multiple CPU cores efficiently (and manage memory in parallel), you often need multiprocessing, not threading.\n",
        "\n",
        "**5. Delayed Garbage Collection**\n",
        "\n",
        "Garbage collection isn't always instant. If your app creates and deletes many large objects quickly, memory might temporarily balloon until the collector kicks in.\n",
        "\n",
        "**6. Improper Resource Management**\n",
        "\n",
        "* If you don’t manually close files, database connections, or sockets, they may consume system-level memory or file descriptors longer than needed.\n",
        "\n",
        "* Best practice: use context managers (with statement) to clean up automatically.\n",
        "\n",
        "**7. Third-party Libraries**\n",
        "\n",
        "Some external libraries (especially C extensions) bypass Python’s memory management — they may cause leaks or inefficient memory use if not handled carefully.\n",
        "\n"
      ],
      "metadata": {
        "id": "rG5ei9lh1CTi"
      }
    },
    {
      "cell_type": "markdown",
      "source": [
        "## **24. How do you raise an exception manually in Python?**\n",
        "\n",
        "You can raise an exception manually in Python using the raise keyword. This is useful when you want to signal that something went wrong in your code — even if Python itself wouldn’t normally throw an error in that situation.\n",
        "\n",
        "**Basic Syntax**\n",
        "\n",
        "    raise ExceptionType(\"Your error message here\")\n",
        "\n",
        "**Example 1: Raising a generic exception**\n",
        "\n",
        "    raise Exception(\"Something went wrong!\")\n",
        "    # This stops the program and prints the error message.\n",
        "\n",
        "**Example 2: Raising a specific exception**\n",
        "\n",
        "    x = -1\n",
        "    if x < 0:\n",
        "        raise ValueError(\"x must be non-negative\")\n",
        "\n",
        "**Example 3: Raising inside a try block**\n",
        "\n",
        "    try:\n",
        "        raise ZeroDivisionError(\"You can't divide by zero\")\n",
        "    except ZeroDivisionError as e:\n",
        "        print(f\"Caught an error: {e}\")\n",
        "\n",
        "**Custom Exceptions**\n",
        "You can also define and raise your own exception types:\n",
        "\n",
        "    class MyCustomError(Exception):\n",
        "        pass\n",
        "\n",
        "    raise MyCustomError(\"This is a custom error\")\n",
        "\n",
        "**Re-raising an exception**\n",
        "\n",
        "Inside an except block, you can use raise alone to re-raise the current exception:\n",
        "\n",
        "    try:\n",
        "        1 / 0\n",
        "    except ZeroDivisionError:\n",
        "        print(\"Handling the error...\")\n",
        "        raise  # Re-throws the same error"
      ],
      "metadata": {
        "id": "VwQZqERU2BZL"
      }
    },
    {
      "cell_type": "markdown",
      "source": [
        "## **25. Why is it important to use multithreading in certain applications**\n",
        "\n",
        "**1. Improved Responsiveness**\n",
        "\n",
        "Multithreading helps apps stay responsive when doing background work.\n",
        "\n",
        "Use case:\n",
        "\n",
        "* In a GUI or web app, one thread can handle user interaction while another handles processing or network activity.\n",
        "\n",
        "**2. Better Performance for I/O-bound Tasks**\n",
        "\n",
        "If your application waits a lot (like reading from disk, making API calls, or database queries), multithreading helps by letting other threads do work while one waits.\n",
        "\n",
        "Use case:\n",
        "* Web scraping, downloading files, logging, network communication.\n",
        "\n",
        "**3. Efficient Resource Use**\n",
        "\n",
        "Threads share the same memory space, which makes data sharing faster than between separate processes (like with multiprocessing).\n",
        "\n",
        "**4. Concurrent Execution of Tasks**\n",
        "\n",
        "Multithreading allows multiple tasks to be performed concurrently — not always in true parallel (because of the GIL), but it can feel faster to the user.\n",
        "\n",
        "**5. Cleaner Code for Background Tasks**\n",
        "\n",
        "You can offload background or recurring tasks (like monitoring a file, auto-saving, etc.) to a separate thread instead of jamming everything into the main flow."
      ],
      "metadata": {
        "id": "L7TamhQD3DwM"
      }
    },
    {
      "cell_type": "markdown",
      "source": [
        "#**Practical Questions**\n"
      ],
      "metadata": {
        "id": "Tvf4a-4lmrdS"
      }
    },
    {
      "cell_type": "markdown",
      "source": [
        "## **1. How can you open a file for writing in Python and write a string to it?**"
      ],
      "metadata": {
        "id": "PSRhwVeTmzTo"
      }
    },
    {
      "cell_type": "code",
      "source": [
        "from google.colab import drive\n",
        "drive.mount('/content/drive')\n",
        "# Open the file in write mode\n",
        "with open('/content/drive/My Drive/example.txt', \"w\") as file:\n",
        "  file.write(\"Hello, world!\")"
      ],
      "metadata": {
        "colab": {
          "base_uri": "https://localhost:8080/"
        },
        "id": "7wwtTb-jnDV7",
        "outputId": "254377c5-4f21-47e8-d4fa-04f60be814ad"
      },
      "execution_count": 19,
      "outputs": [
        {
          "output_type": "stream",
          "name": "stdout",
          "text": [
            "Drive already mounted at /content/drive; to attempt to forcibly remount, call drive.mount(\"/content/drive\", force_remount=True).\n"
          ]
        }
      ]
    },
    {
      "cell_type": "markdown",
      "source": [
        "## **2. Write a Python program to read the contents of a file and print each line.**"
      ],
      "metadata": {
        "id": "KsmWRsXXnqXI"
      }
    },
    {
      "cell_type": "code",
      "source": [
        "# Open the file in read mode\n",
        "with open('/content/drive/My Drive/file1.txt', \"r\") as file:\n",
        "    # Loop through each line in the file\n",
        "    for line in file:\n",
        "        print(line.strip())  # .strip() removes the newline character\n"
      ],
      "metadata": {
        "colab": {
          "base_uri": "https://localhost:8080/"
        },
        "id": "turVRSUmoH6O",
        "outputId": "491757ab-c6ea-48d4-91d7-4dd82f52434c"
      },
      "execution_count": 9,
      "outputs": [
        {
          "output_type": "stream",
          "name": "stdout",
          "text": [
            "hello everyone\n",
            "this is bhavisha parmar\n",
            "studying module 6\n"
          ]
        }
      ]
    },
    {
      "cell_type": "markdown",
      "source": [
        "## **3. How would you handle a case where the file doesn't exist while trying to open it for reading?**"
      ],
      "metadata": {
        "id": "hK7FF8k4r1st"
      }
    },
    {
      "cell_type": "code",
      "source": [
        "filename = \"/content/drive/My Drive/data.txt\"\n",
        "\n",
        "try:\n",
        "    with open(filename, \"r\") as file:\n",
        "        for line in file:\n",
        "            print(line.strip())\n",
        "except FileNotFoundError:\n",
        "    print(f\" The file '{filename}' was not found.\")\n"
      ],
      "metadata": {
        "colab": {
          "base_uri": "https://localhost:8080/"
        },
        "id": "Xvt309VksBaC",
        "outputId": "ffec8c4a-26e3-4ad8-8721-96c0647ba117"
      },
      "execution_count": 10,
      "outputs": [
        {
          "output_type": "stream",
          "name": "stdout",
          "text": [
            " The file '/content/drive/My Drive/data.txt' was not found.\n"
          ]
        }
      ]
    },
    {
      "cell_type": "markdown",
      "source": [
        "## **4. Write a Python script that reads from one file and writes its content to another file.**"
      ],
      "metadata": {
        "id": "NOzF7snisQEE"
      }
    },
    {
      "cell_type": "code",
      "source": [
        "# File paths\n",
        "source_file = \"/content/drive/My Drive/file1.txt\"\n",
        "destination_file = \"/content/drive/My Drive/file2.txt\"\n",
        "\n",
        "# Open source file and read content\n",
        "with open(source_file, \"r\") as src:\n",
        "    content = src.read()\n",
        "\n",
        "# Open destination file and write content\n",
        "with open(destination_file, \"w\") as dest:\n",
        "    dest.write(content)\n",
        "\n",
        "print(\"File content copied successfully.\")\n"
      ],
      "metadata": {
        "colab": {
          "base_uri": "https://localhost:8080/"
        },
        "id": "V00X4Rj2skfN",
        "outputId": "e2626d2a-e7e2-41ae-b9d3-c689a049a0cb"
      },
      "execution_count": 12,
      "outputs": [
        {
          "output_type": "stream",
          "name": "stdout",
          "text": [
            "File content copied successfully.\n"
          ]
        }
      ]
    },
    {
      "cell_type": "markdown",
      "source": [
        "## **5.  How would you catch and handle division by zero error in Python?**"
      ],
      "metadata": {
        "id": "eC8ZB-AFs6Wu"
      }
    },
    {
      "cell_type": "code",
      "source": [
        "try:\n",
        "    numerator = 10\n",
        "    denominator = 2\n",
        "    result = numerator / denominator\n",
        "except ZeroDivisionError:\n",
        "    print(\"Cannot divide by zero!\")\n",
        "else:\n",
        "    print(\"Division successful. Result:\", result)\n",
        "finally:\n",
        "    print(\"\\nThis always runs, error or not.\")\n"
      ],
      "metadata": {
        "colab": {
          "base_uri": "https://localhost:8080/"
        },
        "id": "KKJ2Z0Rbs_U3",
        "outputId": "9cf79bc9-3bea-4078-a406-668da758e072"
      },
      "execution_count": 14,
      "outputs": [
        {
          "output_type": "stream",
          "name": "stdout",
          "text": [
            "Division successful. Result: 5.0\n",
            "\n",
            "This always runs, error or not.\n"
          ]
        }
      ]
    },
    {
      "cell_type": "markdown",
      "source": [
        "## **6.  Write a Python program that logs an error message to a log file when a division by zero exception occurs.**"
      ],
      "metadata": {
        "id": "Zas57bGBtN5j"
      }
    },
    {
      "cell_type": "code",
      "source": [
        "import logging\n",
        "\n",
        "# Set up basic logging\n",
        "logging.basicConfig(filename='error.log', level=logging.ERROR)\n",
        "\n",
        "# Division example\n",
        "try:\n",
        "    result = 10 / 0\n",
        "except ZeroDivisionError:\n",
        "    logging.error(\"Tried to divide by zero.\")\n"
      ],
      "metadata": {
        "colab": {
          "base_uri": "https://localhost:8080/"
        },
        "id": "Fk2SygeFta36",
        "outputId": "d1dd8700-bec2-456f-cf7e-ed5987cf557f"
      },
      "execution_count": 15,
      "outputs": [
        {
          "output_type": "stream",
          "name": "stderr",
          "text": [
            "ERROR:root:Tried to divide by zero.\n"
          ]
        }
      ]
    },
    {
      "cell_type": "markdown",
      "source": [
        "## **7.  How do you log information at different levels (INFO, ERROR, WARNING) in Python using the logging module?**"
      ],
      "metadata": {
        "id": "7gZdl0HOtfLb"
      }
    },
    {
      "cell_type": "code",
      "source": [
        "import logging\n",
        "\n",
        "# Configure logging\n",
        "logging.basicConfig(filename='app.log', level=logging.DEBUG)\n",
        "\n",
        "# Log messages at different levels\n",
        "logging.debug(\"This is a DEBUG message\")     # Lowest level (for devs)\n",
        "logging.info(\"This is an INFO message\")      # General info\n",
        "logging.warning(\"This is a WARNING message\") # Something unexpected, but not crashing\n",
        "logging.error(\"This is an ERROR message\")    # Something failed\n",
        "logging.critical(\"This is a CRITICAL message\") # Serious failure\n"
      ],
      "metadata": {
        "colab": {
          "base_uri": "https://localhost:8080/"
        },
        "id": "xz7Czxs-tnZ-",
        "outputId": "cf929702-3ba7-4986-8030-cfa867b5ba4a"
      },
      "execution_count": 16,
      "outputs": [
        {
          "output_type": "stream",
          "name": "stderr",
          "text": [
            "WARNING:root:This is a WARNING message\n",
            "ERROR:root:This is an ERROR message\n",
            "CRITICAL:root:This is a CRITICAL message\n"
          ]
        }
      ]
    },
    {
      "cell_type": "markdown",
      "source": [
        "## **8.   Write a program to handle a file opening error using exception handling.**"
      ],
      "metadata": {
        "id": "YEyjPlRItvM3"
      }
    },
    {
      "cell_type": "code",
      "source": [
        "filename = \"/content/drive/My Drive/data.txt\"  # File that may or may not exist\n",
        "\n",
        "try:\n",
        "    with open(filename, \"r\") as file:\n",
        "        content = file.read()\n",
        "        print(\"File content:\\n\", content)\n",
        "except FileNotFoundError:\n",
        "    print(f\"Error: The file '{filename}' was not found.\")\n"
      ],
      "metadata": {
        "colab": {
          "base_uri": "https://localhost:8080/"
        },
        "id": "E8tlyD0ht5XD",
        "outputId": "9d56d6f5-045c-41fd-a18f-bf3dd9efce5c"
      },
      "execution_count": 17,
      "outputs": [
        {
          "output_type": "stream",
          "name": "stdout",
          "text": [
            "Error: The file '/content/drive/My Drive/data.txt' was not found.\n"
          ]
        }
      ]
    },
    {
      "cell_type": "markdown",
      "source": [
        "## **9.    How can you read a file line by line and store its content in a list in Python.**"
      ],
      "metadata": {
        "id": "_E4C6JsGuEWq"
      }
    },
    {
      "cell_type": "code",
      "source": [
        "# Initialize an empty list to store the lines\n",
        "lines = []\n",
        "\n",
        "# Open the file in read mode\n",
        "with open('/content/drive/My Drive/file1.txt', \"r\") as file:\n",
        "    # Loop through each line and append to the list\n",
        "    for line in file:\n",
        "        lines.append(line.strip())  # .strip() to remove newline characters\n",
        "\n",
        "# Print the list of lines\n",
        "print(lines)\n"
      ],
      "metadata": {
        "colab": {
          "base_uri": "https://localhost:8080/"
        },
        "id": "9oZV0egwuWLP",
        "outputId": "b59f586d-af80-400c-e3ed-06aa93a08b40"
      },
      "execution_count": 24,
      "outputs": [
        {
          "output_type": "stream",
          "name": "stdout",
          "text": [
            "['hello everyone', 'this is bhavisha parmar', 'studying module 6']\n"
          ]
        }
      ]
    },
    {
      "cell_type": "markdown",
      "source": [
        "## **10. How can you append data to an existing file in Python?**"
      ],
      "metadata": {
        "id": "gpn7l_r-vGxm"
      }
    },
    {
      "cell_type": "code",
      "source": [
        "# Data to append\n",
        "data = \"This is the new content that will be appended.\\n\"\n",
        "\n",
        "# Open the file in append mode\n",
        "with open(\"/content/drive/My Drive/file1.txt\", \"a\") as file:\n",
        "    file.write(data)\n",
        "\n",
        "print(\"Data appended successfully.\")\n"
      ],
      "metadata": {
        "colab": {
          "base_uri": "https://localhost:8080/"
        },
        "id": "1K5fs-i7vQFO",
        "outputId": "03484258-1d6d-47d7-a2d1-915495d053cb"
      },
      "execution_count": 25,
      "outputs": [
        {
          "output_type": "stream",
          "name": "stdout",
          "text": [
            "Data appended successfully.\n"
          ]
        }
      ]
    },
    {
      "cell_type": "markdown",
      "source": [
        "## **11. Write a Python program that uses a try-except block to handle an error when attempting to access a dictionary key that doesn't exist.**"
      ],
      "metadata": {
        "id": "bIQoO0BrvaFo"
      }
    },
    {
      "cell_type": "code",
      "source": [
        "# Sample dictionary\n",
        "my_dict = {\"name\": \"Alice\", \"age\": 25}\n",
        "\n",
        "# Key to access\n",
        "key_to_access = \"address\"\n",
        "\n",
        "try:\n",
        "    # Attempt to access the value using the key\n",
        "    value = my_dict[key_to_access]\n",
        "    print(f\"Value for '{key_to_access}': {value}\")\n",
        "except KeyError:\n",
        "    # Handle the case when the key doesn't exist\n",
        "    print(f\"Error: The key '{key_to_access}' does not exist in the dictionary.\")\n"
      ],
      "metadata": {
        "colab": {
          "base_uri": "https://localhost:8080/"
        },
        "id": "tEjzkusXvjpk",
        "outputId": "0d341fa1-70a1-4402-f1a2-e7f10750b91d"
      },
      "execution_count": 26,
      "outputs": [
        {
          "output_type": "stream",
          "name": "stdout",
          "text": [
            "Error: The key 'address' does not exist in the dictionary.\n"
          ]
        }
      ]
    },
    {
      "cell_type": "markdown",
      "source": [
        "## **12. Write a program that demonstrates using multiple except blocks to handle different types of exceptions.**"
      ],
      "metadata": {
        "id": "IDXJqJiEvvQN"
      }
    },
    {
      "cell_type": "code",
      "source": [
        "try:\n",
        "    # Take input from user\n",
        "    x = int(input(\"Enter a number: \"))\n",
        "    y = int(input(\"Enter another number: \"))\n",
        "\n",
        "    # Attempt division\n",
        "    result = x / y\n",
        "    print(f\"The result of {x} divided by {y} is: {result}\")\n",
        "\n",
        "except ZeroDivisionError:\n",
        "    print(\"Error: Cannot divide by zero!\")\n",
        "\n",
        "except ValueError:\n",
        "    print(\"Error: Please enter valid integers!\")\n",
        "\n",
        "except Exception as e:\n",
        "    print(f\"An unexpected error occurred: {e}\")\n"
      ],
      "metadata": {
        "colab": {
          "base_uri": "https://localhost:8080/"
        },
        "id": "VtEc1vYEv3Ih",
        "outputId": "50f6ece3-48e9-4296-ae5f-d472d026b4e9"
      },
      "execution_count": 28,
      "outputs": [
        {
          "output_type": "stream",
          "name": "stdout",
          "text": [
            "Enter a number: 12\n",
            "Enter another number: 0\n",
            "Error: Cannot divide by zero!\n"
          ]
        }
      ]
    },
    {
      "cell_type": "markdown",
      "source": [
        "## **13. How would you check if a file exists before attempting to read it in Python?**"
      ],
      "metadata": {
        "id": "ZfaaeOp2wB-y"
      }
    },
    {
      "cell_type": "code",
      "source": [
        "import os\n",
        "\n",
        "filename = \"/content/drive/My Drive/file3.txt\"\n",
        "\n",
        "# Check if the file exists before opening\n",
        "if os.path.exists(filename):\n",
        "    with open(filename, \"r\") as file:\n",
        "        content = file.read()\n",
        "    print(content)\n",
        "else:\n",
        "    print(f\"The file '{filename}' does not exist.\")\n"
      ],
      "metadata": {
        "colab": {
          "base_uri": "https://localhost:8080/"
        },
        "id": "WWiwbRa4wIgp",
        "outputId": "2b58aeff-1177-4adf-cf5f-3907d1342e5e"
      },
      "execution_count": 29,
      "outputs": [
        {
          "output_type": "stream",
          "name": "stdout",
          "text": [
            "The file '/content/drive/My Drive/file3.txt' does not exist.\n"
          ]
        }
      ]
    },
    {
      "cell_type": "markdown",
      "source": [
        "## **14. Write a program that uses the logging module to log both informational and error messages.**"
      ],
      "metadata": {
        "id": "J57_YYjxwXZJ"
      }
    },
    {
      "cell_type": "code",
      "source": [
        "import logging\n",
        "\n",
        "# Set up basic configuration for logging\n",
        "logging.basicConfig(filename='app.log', level=logging.DEBUG, format='%(asctime)s - %(levelname)s - %(message)s')\n",
        "\n",
        "# Log an informational message\n",
        "logging.info(\"Program started successfully.\")\n",
        "\n",
        "try:\n",
        "    # Simulating some code\n",
        "    result = 10 / 0  # This will raise a division by zero error\n",
        "except ZeroDivisionError as e:\n",
        "    # Log an error message\n",
        "    logging.error(\"Error occurred: Division by zero.\")\n",
        "\n",
        "# Another informational message\n",
        "logging.info(\"Program completed.\")\n"
      ],
      "metadata": {
        "colab": {
          "base_uri": "https://localhost:8080/"
        },
        "id": "_jEfLPzuwfHJ",
        "outputId": "9249a9fd-24e1-4ab7-9c25-99df5af7ab17"
      },
      "execution_count": 30,
      "outputs": [
        {
          "output_type": "stream",
          "name": "stderr",
          "text": [
            "ERROR:root:Error occurred: Division by zero.\n"
          ]
        }
      ]
    },
    {
      "cell_type": "markdown",
      "source": [
        "## **15. Write a Python program that prints the content of a file and handles the case when the file is empty.**"
      ],
      "metadata": {
        "id": "RiaiNtIiwjeJ"
      }
    },
    {
      "cell_type": "code",
      "source": [
        "from google.colab import drive\n",
        "drive.mount('/content/drive')\n",
        "filename = \"/https://drive.google.com/drive/u/0/my-drive/data.txt\"\n",
        "\n",
        "try:\n",
        "    with open(filename, \"r\") as file:\n",
        "        content = file.read()\n",
        "        if content:  # Check if the content is not empty\n",
        "            print(\"File content:\")\n",
        "            print(content)\n",
        "        else:\n",
        "            print(\"The file is empty.\")\n",
        "except FileNotFoundError:\n",
        "    print(f\"Error: The file '{filename}' does not exist.\")\n"
      ],
      "metadata": {
        "colab": {
          "base_uri": "https://localhost:8080/"
        },
        "id": "CtIDSuA6woM4",
        "outputId": "0723f1c7-5d52-4952-eaee-1def97485151"
      },
      "execution_count": 33,
      "outputs": [
        {
          "output_type": "stream",
          "name": "stdout",
          "text": [
            "Drive already mounted at /content/drive; to attempt to forcibly remount, call drive.mount(\"/content/drive\", force_remount=True).\n",
            "Error: The file '/https://drive.google.com/drive/u/0/my-drive/data.txt' does not exist.\n"
          ]
        }
      ]
    },
    {
      "cell_type": "markdown",
      "source": [
        "## **16.  Demonstrate how to use memory profiling to check the memory usage of a small program.**"
      ],
      "metadata": {
        "id": "GUf4yEzVxiTN"
      }
    },
    {
      "cell_type": "code",
      "source": [
        "!pip install memory-profiler\n",
        "\n",
        "from memory_profiler import profile\n",
        "\n",
        "# Use the profile decorator to monitor memory usage of this function\n",
        "@profile\n",
        "def my_function():\n",
        "    a = [1] * (10**6)  # Creating a list with 1 million elements\n",
        "    b = [2] * (2 * 10**7)  # Creating a list with 20 million elements\n",
        "    del b  # Deleting the larger list\n",
        "    return a\n",
        "\n",
        "if __name__ == \"__main__\":\n",
        "    my_function()\n",
        "\n",
        "\n"
      ],
      "metadata": {
        "colab": {
          "base_uri": "https://localhost:8080/"
        },
        "id": "VF6hhAqwxsAF",
        "outputId": "ed5e8a6d-cd35-40d4-a33d-0468e356ea66"
      },
      "execution_count": 37,
      "outputs": [
        {
          "output_type": "stream",
          "name": "stdout",
          "text": [
            "Requirement already satisfied: memory-profiler in /usr/local/lib/python3.11/dist-packages (0.61.0)\n",
            "Requirement already satisfied: psutil in /usr/local/lib/python3.11/dist-packages (from memory-profiler) (5.9.5)\n",
            "ERROR: Could not find file <ipython-input-37-8572930ddcdc>\n",
            "NOTE: %mprun can only be used on functions defined in physical files, and not in the IPython environment.\n"
          ]
        }
      ]
    },
    {
      "cell_type": "markdown",
      "source": [
        "## **17.  Write a Python program to create and write a list of numbers to a file, one number per line.**"
      ],
      "metadata": {
        "id": "rbglqWBMyL66"
      }
    },
    {
      "cell_type": "code",
      "source": [
        "# List of numbers\n",
        "numbers = [1, 2, 3, 4, 5, 6, 7, 8, 9, 10]\n",
        "\n",
        "# Open the file in write mode\n",
        "with open(\"/content/drive/My Drive/data.txt\", \"w\") as file:\n",
        "    # Iterate through the list and write each number to the file\n",
        "    for number in numbers:\n",
        "        file.write(f\"{number}\\n\")\n",
        "\n",
        "print(\"Numbers have been written to 'numbers.txt'.\")\n"
      ],
      "metadata": {
        "colab": {
          "base_uri": "https://localhost:8080/"
        },
        "id": "ypmEOtGKyTE-",
        "outputId": "1086de56-2f32-4177-9480-8d15655cc960"
      },
      "execution_count": 38,
      "outputs": [
        {
          "output_type": "stream",
          "name": "stdout",
          "text": [
            "Numbers have been written to 'numbers.txt'.\n"
          ]
        }
      ]
    },
    {
      "cell_type": "markdown",
      "source": [
        "## **18.  How would you implement a basic logging setup that logs to a file with rotation after 1MB?**"
      ],
      "metadata": {
        "id": "7_b8cPeEyhtE"
      }
    },
    {
      "cell_type": "code",
      "source": [
        "import logging\n",
        "from logging.handlers import RotatingFileHandler\n",
        "\n",
        "# Set up the logger\n",
        "logger = logging.getLogger()\n",
        "logger.setLevel(logging.DEBUG)\n",
        "\n",
        "# Set up a rotating file handler (1MB size limit, 3 backup files)\n",
        "handler = RotatingFileHandler(\"app.log\", maxBytes=1_000_000, backupCount=3)\n",
        "logger.addHandler(handler)\n",
        "\n",
        "# Log some messages\n",
        "logger.debug(\"This is a debug message.\")\n",
        "logger.info(\"This is an info message.\")\n",
        "logger.warning(\"This is a warning message.\")\n",
        "logger.error(\"This is an error message.\")\n",
        "logger.critical(\"This is a critical message.\")\n",
        "\n",
        "print(\"✅ Logging setup with file rotation after 1MB is complete.\")\n"
      ],
      "metadata": {
        "colab": {
          "base_uri": "https://localhost:8080/"
        },
        "id": "fT12UE7uyuxP",
        "outputId": "5749b490-08a7-4488-f20e-2ab019c43ced"
      },
      "execution_count": 39,
      "outputs": [
        {
          "output_type": "stream",
          "name": "stderr",
          "text": [
            "DEBUG:root:This is a debug message.\n",
            "INFO:root:This is an info message.\n",
            "WARNING:root:This is a warning message.\n",
            "ERROR:root:This is an error message.\n",
            "CRITICAL:root:This is a critical message.\n"
          ]
        },
        {
          "output_type": "stream",
          "name": "stdout",
          "text": [
            "✅ Logging setup with file rotation after 1MB is complete.\n"
          ]
        }
      ]
    },
    {
      "cell_type": "markdown",
      "source": [
        "## **19.   Write a program that handles both IndexError and KeyError using a try-except block.**"
      ],
      "metadata": {
        "id": "aHGYTqoYyzHR"
      }
    },
    {
      "cell_type": "code",
      "source": [
        "# Sample list and dictionary\n",
        "my_list = [1, 2, 3]\n",
        "my_dict = {\"name\": \"Alice\", \"age\": 25,}\n",
        "\n",
        "try:\n",
        "    # Trying to access an index that might cause IndexError\n",
        "    print(my_list[5])  # This will raise IndexError because index 5 doesn't exist\n",
        "\n",
        "    # Trying to access a key that might cause KeyError\n",
        "    print(my_dict[\"address\"])  # This will raise KeyError because the key doesn't exist\n",
        "\n",
        "except IndexError:\n",
        "    print(\"IndexError: List index is out of range.\")\n",
        "\n",
        "except KeyError:\n",
        "    print(\"KeyError: Key not found in the dictionary.\")\n"
      ],
      "metadata": {
        "colab": {
          "base_uri": "https://localhost:8080/"
        },
        "id": "XBXI_MY6y6mO",
        "outputId": "eaa129c1-9ded-4e5c-8298-a97cc6f176c6"
      },
      "execution_count": 42,
      "outputs": [
        {
          "output_type": "stream",
          "name": "stdout",
          "text": [
            "IndexError: List index is out of range.\n"
          ]
        }
      ]
    },
    {
      "cell_type": "markdown",
      "source": [
        "## **20.    How would you open a file and read its contents using a context manager in Python?**"
      ],
      "metadata": {
        "id": "YiGRGfD4zHmY"
      }
    },
    {
      "cell_type": "code",
      "source": [
        "# Open and read a file using a context manager\n",
        "with open(\"/content/drive/My Drive/data.txt\", \"r\") as file:\n",
        "    content = file.read()\n",
        "    print(content)\n"
      ],
      "metadata": {
        "colab": {
          "base_uri": "https://localhost:8080/"
        },
        "id": "3tZGIAFAzTUj",
        "outputId": "cbbebfdb-fbcb-45fe-b4e1-a8f11070ab4d"
      },
      "execution_count": 43,
      "outputs": [
        {
          "output_type": "stream",
          "name": "stdout",
          "text": [
            "1\n",
            "2\n",
            "3\n",
            "4\n",
            "5\n",
            "6\n",
            "7\n",
            "8\n",
            "9\n",
            "10\n",
            "\n"
          ]
        }
      ]
    },
    {
      "cell_type": "markdown",
      "source": [
        "## **21.    Write a Python program that reads a file and prints the number of occurrences of a specific word.**"
      ],
      "metadata": {
        "id": "BmBT10I9zaYX"
      }
    },
    {
      "cell_type": "code",
      "source": [
        "# Specify the word to search for\n",
        "word_to_search = \"is\"\n",
        "\n",
        "# Open the file and count the occurrences of the word\n",
        "with open(\"/content/drive/My Drive/file1.txt\", \"r\") as file:\n",
        "    content = file.read()\n",
        "\n",
        "# Count the occurrences of the word\n",
        "word_count = content.lower().split().count(word_to_search.lower())\n",
        "\n",
        "# Print the result\n",
        "print(f\"The word '{word_to_search}' appears {word_count} times in the file.\")\n"
      ],
      "metadata": {
        "colab": {
          "base_uri": "https://localhost:8080/"
        },
        "id": "qjnQSkCnzh42",
        "outputId": "14a62657-41b1-474a-bd63-aa2683300d77"
      },
      "execution_count": 45,
      "outputs": [
        {
          "output_type": "stream",
          "name": "stdout",
          "text": [
            "The word 'is' appears 2 times in the file.\n"
          ]
        }
      ]
    },
    {
      "cell_type": "markdown",
      "source": [
        "## **22.    How can you check if a file is empty before attempting to read its contents?**"
      ],
      "metadata": {
        "id": "Hvuruul2zt8p"
      }
    },
    {
      "cell_type": "code",
      "source": [
        "import os\n",
        "\n",
        "# Specify the file path\n",
        "file_path = \"/content/drive/My Drive/file2.txt\"\n",
        "\n",
        "# Check if the file exists and if it is empty\n",
        "if os.path.exists(file_path) and os.path.getsize(file_path) > 0:\n",
        "    with open(file_path, \"r\") as file:\n",
        "        content = file.read()\n",
        "        print(\"File content:\")\n",
        "        print(content)\n",
        "else:\n",
        "    print(\"The file is empty or does not exist.\")\n"
      ],
      "metadata": {
        "colab": {
          "base_uri": "https://localhost:8080/"
        },
        "id": "FBAEfT9bzzI0",
        "outputId": "6129a7ca-09ce-4bc1-83bd-235c96386019"
      },
      "execution_count": 47,
      "outputs": [
        {
          "output_type": "stream",
          "name": "stdout",
          "text": [
            "File content:\n",
            "hello everyone\n",
            "this is bhavisha parmar\n",
            "studying module 6\n"
          ]
        }
      ]
    },
    {
      "cell_type": "markdown",
      "source": [
        "## **23.    Write a Python program that writes to a log file when an error occurs during file handling.**"
      ],
      "metadata": {
        "id": "LcGxrZHh0A-_"
      }
    },
    {
      "cell_type": "code",
      "source": [
        "import logging\n",
        "\n",
        "# Set up basic logging to log to a file\n",
        "logging.basicConfig(filename=\"file_error.log\", level=logging.ERROR)\n",
        "\n",
        "try:\n",
        "    # Trying to open a non-existent file\n",
        "    with open(\"/content/drive/My Drive/file2.txt\", \"r\") as file:\n",
        "        content = file.read()\n",
        "\n",
        "except Exception as e:\n",
        "    # Log the error\n",
        "    logging.error(f\"Error occurred: {e}\")\n",
        "\n",
        "print(\"An error occurred. Check the 'file_error.log' for details.\")\n"
      ],
      "metadata": {
        "colab": {
          "base_uri": "https://localhost:8080/"
        },
        "id": "2l4zRiNc0Lgz",
        "outputId": "579954a5-2a95-4eef-9463-a4161ac18f29"
      },
      "execution_count": 48,
      "outputs": [
        {
          "output_type": "stream",
          "name": "stdout",
          "text": [
            "An error occurred. Check the 'file_error.log' for details.\n"
          ]
        }
      ]
    }
  ]
}